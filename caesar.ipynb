{
 "metadata": {
  "language_info": {
   "codemirror_mode": {
    "name": "ipython",
    "version": 3
   },
   "file_extension": ".py",
   "mimetype": "text/x-python",
   "name": "python",
   "nbconvert_exporter": "python",
   "pygments_lexer": "ipython3",
   "version": "3.6.9-final"
  },
  "orig_nbformat": 2,
  "kernelspec": {
   "name": "Python 3.6.9 64-bit",
   "display_name": "Python 3.6.9 64-bit",
   "metadata": {
    "interpreter": {
     "hash": "31f2aee4e71d21fbe5cf8b01ff0e069b9275f58929596ceb00d14d90e3e16cd6"
    }
   }
  }
 },
 "nbformat": 4,
 "nbformat_minor": 2,
 "cells": [
  {
   "cell_type": "code",
   "execution_count": 8,
   "metadata": {
    "tags": []
   },
   "outputs": [
    {
     "output_type": "stream",
     "name": "stdout",
     "text": "The encrypted message is: epaopuafbuabmmanzapsbohft\n"
    }
   ],
   "source": [
    "\n",
    "#find a letter in a string str and return its index\n",
    "def find(str, letter):\n",
    "    for ltr in str:\n",
    "        if ltr == letter:\n",
    "            return str.index(ltr)\n",
    "\n",
    "# input should be only lower case letters, or only upper case\n",
    "MESSAGE = input(\"Enter a message please with letters only: \")\n",
    "\n",
    "MESSAGE= MESSAGE.lower()#set all message to lower case\n",
    "#MESSAGE= MESSAGE.upper()#set all message to upper case\n",
    "input_lenght= len(MESSAGE)\n",
    "KEY = 1 \n",
    "\n",
    "#Reference table(it must include all the letters present in message and space)\n",
    "REF=\"abcdefghijklmnopqrstuvwxyz \"# default values for correct solution\n",
    "#Test tables:\n",
    "#REF =\"ABCDEFGHIJKLMNOPQRSTUVWXYZ \"#for all upper case\n",
    "# REF =\"qwertyuiopasdfghjklzxcvbnm \"#qwerty variant\n",
    "\n",
    "TABLE =REF#Table equal REF to do caesar cipher with different tables\n",
    "#TABLE =\"1234567891011121314151617\"# to use this REF must be string\n",
    "\n",
    "\n",
    "char_num= len(TABLE)#get lenght of table\n",
    "SOLUTION = \"\"\n",
    "\n",
    "indices=[None]*input_lenght #construct list of indices\n",
    "#find indices of letters present in the message\n",
    "j=0\n",
    "for i in MESSAGE:\n",
    "        indices[j]= find(REF,i)\n",
    "        j+=1\n",
    "#print encrypted message based on shift of indices\n",
    "for k in indices:\n",
    "    m=(k+KEY)%char_num#caesar iteration formula\n",
    "    SOLUTION+= TABLE[m]   \n",
    "print(\"The encrypted message is: \" + SOLUTION)\n"
   ]
  }
 ]
}